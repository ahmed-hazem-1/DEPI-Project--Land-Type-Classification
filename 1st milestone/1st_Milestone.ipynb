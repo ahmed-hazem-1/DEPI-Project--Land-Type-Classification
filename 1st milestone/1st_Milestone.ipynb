{
  "cells": [
    {
      "cell_type": "markdown",
      "id": "f35bd610",
      "metadata": {
        "id": "f35bd610"
      },
      "source": [
        "# 🎯 Milestone 1: Data Collection, Exploration, and Preprocessing  "
      ]
    },
    {
      "cell_type": "markdown",
      "source": [
        "📌 Section 1: Setup & Mount Google Drive\n"
      ],
      "metadata": {
        "id": "vZQU5LxSQ3K8"
      },
      "id": "vZQU5LxSQ3K8"
    },
    {
      "cell_type": "code",
      "source": [
        "#!pip install opencv-python rasterio albumentations matplotlib tqdm scikit-learn"
      ],
      "metadata": {
        "id": "YRyX24hrTVvY"
      },
      "id": "YRyX24hrTVvY",
      "execution_count": 9,
      "outputs": []
    },
    {
      "cell_type": "code",
      "source": [
        "# ✅ Step 1: Mount Google Drive\n",
        "from google.colab import drive\n",
        "drive.mount('/content/drive')\n",
        "\n",
        "# ✅ Step 2: Import Required Libraries\n",
        "import os\n",
        "import cv2\n",
        "import rasterio\n",
        "import numpy as np\n",
        "import albumentations as A\n",
        "import matplotlib.pyplot as plt\n",
        "from tqdm import tqdm\n",
        "from collections import Counter\n",
        "from sklearn.preprocessing import LabelEncoder\n"
      ],
      "metadata": {
        "colab": {
          "base_uri": "https://localhost:8080/"
        },
        "id": "CRzJE6WmQ6Dz",
        "outputId": "6a6ee9a1-0827-4d61-9ce2-7f77346aa27a"
      },
      "id": "CRzJE6WmQ6Dz",
      "execution_count": 10,
      "outputs": [
        {
          "output_type": "stream",
          "name": "stdout",
          "text": [
            "Drive already mounted at /content/drive; to attempt to forcibly remount, call drive.mount(\"/content/drive\", force_remount=True).\n"
          ]
        }
      ]
    },
    {
      "cell_type": "markdown",
      "source": [
        "📌 Section 2: Define Paths & Dataset Parameters"
      ],
      "metadata": {
        "id": "LRjSkw2HQ8uT"
      },
      "id": "LRjSkw2HQ8uT"
    },
    {
      "cell_type": "code",
      "source": [
        "# ✅ Define Dataset Paths\n",
        "dataset_path = \"/content/drive/My Drive/EuroSAT_MS\"\n",
        "final_dataset_path = \"/content/drive/My Drive/EuroSAT_Final_Dataset\"\n",
        "\n",
        "# ✅ Create the Final Dataset Folder\n",
        "os.makedirs(final_dataset_path, exist_ok=True)\n",
        "\n",
        "# ✅ Set Image Properties\n",
        "IMAGE_SIZE = (64, 64)   # Resize images to 64x64 pixels\n",
        "\n",
        "# ✅ Select Specific Bands (B2, B3, B4, B8)\n",
        "BANDS = [1, 2, 3, 7]  # Sentinel-2 index starts from 0 (so B2=1, B3=2, B4=3, B8=7)\n",
        "\n",
        "TARGET_COUNT = 4000  # Ensure each category has 4,000 images\n"
      ],
      "metadata": {
        "id": "YAf0vo5dQ9PN"
      },
      "id": "YAf0vo5dQ9PN",
      "execution_count": 11,
      "outputs": []
    },
    {
      "cell_type": "markdown",
      "source": [
        "Get a sample image to check available bands"
      ],
      "metadata": {
        "id": "zSCkKervRKja"
      },
      "id": "zSCkKervRKja"
    },
    {
      "cell_type": "code",
      "execution_count": 12,
      "id": "573d69b5",
      "metadata": {
        "colab": {
          "base_uri": "https://localhost:8080/"
        },
        "id": "573d69b5",
        "outputId": "1e6da12d-b60a-414e-f5d4-0705c3b13530"
      },
      "outputs": [
        {
          "output_type": "stream",
          "name": "stdout",
          "text": [
            "✅ Sample Image: /content/drive/My Drive/EuroSAT_MS/AnnualCrop/AnnualCrop_2002.tif\n",
            "📡 Number of Spectral Bands: 13\n",
            "📊 Band Names: (None, None, None, None, None, None, None, None, None, None, None, None, None)\n"
          ]
        }
      ],
      "source": [
        "sample_image_path = None\n",
        "\n",
        "for root, dirs, files in os.walk(dataset_path):\n",
        "    for file in files:\n",
        "        if file.endswith(\".tif\"):\n",
        "            sample_image_path = os.path.join(root, file)\n",
        "            break\n",
        "    if sample_image_path:\n",
        "        break\n",
        "\n",
        "if sample_image_path:\n",
        "    with rasterio.open(sample_image_path) as src:\n",
        "        num_bands = src.count\n",
        "        print(f\"✅ Sample Image: {sample_image_path}\")\n",
        "        print(f\"📡 Number of Spectral Bands: {num_bands}\")\n",
        "        print(f\"📊 Band Names: {src.descriptions}\")\n",
        "else:\n",
        "    print(\"❌ No images found in the dataset!\")"
      ]
    },
    {
      "cell_type": "markdown",
      "source": [
        "📌 Section 3: Define Image Processing & Augmentation"
      ],
      "metadata": {
        "id": "ZCzni52pRaSS"
      },
      "id": "ZCzni52pRaSS"
    },
    {
      "cell_type": "code",
      "source": [
        "# ✅ Define Image Processing Function\n",
        "def process_tiff_image(image_path):\n",
        "    \"\"\"\n",
        "    Loads a TIFF image using rasterio, extracts all bands,\n",
        "    resizes the image, and normalizes pixel values to [0, 1].\n",
        "    \"\"\"\n",
        "    try:\n",
        "        with rasterio.open(image_path) as src:\n",
        "            image = src.read(BANDS)  # Load all 13 bands\n",
        "            image = np.transpose(image, (1, 2, 0))  # Rearrange to (H, W, C)\n",
        "            image = cv2.resize(image, IMAGE_SIZE)  # Resize\n",
        "            image = image / 65535.0  # Normalize (Sentinel-2 max value is 65535)\n",
        "        return image\n",
        "    except Exception as e:\n",
        "        print(f\"❌ Error processing {image_path}: {e}\")\n",
        "        return None\n",
        "\n",
        "# ✅ Define Augmentation Pipeline\n",
        "augmentation = A.Compose([\n",
        "    A.HorizontalFlip(p=0.5),\n",
        "    A.RandomRotate90(p=0.5),\n",
        "    A.RandomBrightnessContrast(p=0.5),\n",
        "    A.GaussianBlur(p=0.3),\n",
        "])\n"
      ],
      "metadata": {
        "id": "Kkp7IJ49Ra7K"
      },
      "id": "Kkp7IJ49Ra7K",
      "execution_count": 13,
      "outputs": []
    },
    {
      "cell_type": "markdown",
      "source": [
        "📌 Section 4: Load, Process & Augment Images"
      ],
      "metadata": {
        "id": "APDVpPetRtfL"
      },
      "id": "APDVpPetRtfL"
    },
    {
      "cell_type": "code",
      "source": [
        "# ✅ Load, Process, and Augment Images\n",
        "X, y = [], []\n",
        "category_counts = {}\n",
        "\n",
        "print(\"🔄 Processing TIFF Images from EuroSAT...\")\n",
        "for category in tqdm(sorted(os.listdir(dataset_path))):\n",
        "    category_path = os.path.join(dataset_path, category)\n",
        "\n",
        "    if os.path.isdir(category_path):\n",
        "        images = []\n",
        "        for file in os.listdir(category_path):\n",
        "            if file.lower().endswith(\".tif\"):\n",
        "                image_path = os.path.join(category_path, file)\n",
        "                img = process_tiff_image(image_path)\n",
        "                if img is not None:\n",
        "                    images.append(img)\n",
        "                    X.append(img)\n",
        "                    y.append(category)\n",
        "\n",
        "        # ✅ Apply Augmentation Until Each Category Has 4,000 Images\n",
        "        current_count = len(images)\n",
        "        category_counts[category] = current_count\n",
        "        print(f\"📊 Found {current_count} images in {category}.\")\n",
        "\n",
        "        if current_count < TARGET_COUNT:\n",
        "            i = 0  # Augmentation index\n",
        "            while current_count < TARGET_COUNT:\n",
        "                image = images[i % len(images)]  # Cycle through images\n",
        "                augmented = augmentation(image=image)  # Apply augmentation\n",
        "                X.append(augmented[\"image\"])\n",
        "                y.append(category)\n",
        "\n",
        "                current_count += 1\n",
        "                i += 1\n",
        "\n",
        "            print(f\"✅ Augmented {category} to {TARGET_COUNT} images!\")\n",
        "\n",
        "# ✅ Convert to NumPy Arrays\n",
        "X = np.array(X)\n",
        "y = np.array(y)\n",
        "\n",
        "print(f\"\\n✅ Total Processed Images: {X.shape[0]}\")\n"
      ],
      "metadata": {
        "colab": {
          "base_uri": "https://localhost:8080/"
        },
        "id": "Uc0RZzJ3Rt-p",
        "outputId": "26598b51-29b8-47aa-86c3-61dfa048874a"
      },
      "id": "Uc0RZzJ3Rt-p",
      "execution_count": 14,
      "outputs": [
        {
          "output_type": "stream",
          "name": "stdout",
          "text": [
            "🔄 Processing TIFF Images from EuroSAT...\n"
          ]
        },
        {
          "output_type": "stream",
          "name": "stderr",
          "text": [
            "\r  0%|          | 0/10 [00:00<?, ?it/s]"
          ]
        },
        {
          "output_type": "stream",
          "name": "stdout",
          "text": [
            "📊 Found 3010 images in AnnualCrop.\n"
          ]
        },
        {
          "output_type": "stream",
          "name": "stderr",
          "text": [
            "\r 10%|█         | 1/10 [07:38<1:08:45, 458.35s/it]"
          ]
        },
        {
          "output_type": "stream",
          "name": "stdout",
          "text": [
            "✅ Augmented AnnualCrop to 4000 images!\n",
            "📊 Found 3010 images in Forest.\n"
          ]
        },
        {
          "output_type": "stream",
          "name": "stderr",
          "text": [
            "\r 20%|██        | 2/10 [18:20<1:15:33, 566.69s/it]"
          ]
        },
        {
          "output_type": "stream",
          "name": "stdout",
          "text": [
            "✅ Augmented Forest to 4000 images!\n",
            "📊 Found 3000 images in HerbaceousVegetation.\n"
          ]
        },
        {
          "output_type": "stream",
          "name": "stderr",
          "text": [
            "\r 30%|███       | 3/10 [28:38<1:08:49, 589.89s/it]"
          ]
        },
        {
          "output_type": "stream",
          "name": "stdout",
          "text": [
            "✅ Augmented HerbaceousVegetation to 4000 images!\n",
            "📊 Found 2500 images in Highway.\n"
          ]
        },
        {
          "output_type": "stream",
          "name": "stderr",
          "text": [
            "\r 40%|████      | 4/10 [35:42<52:27, 524.62s/it]  "
          ]
        },
        {
          "output_type": "stream",
          "name": "stdout",
          "text": [
            "✅ Augmented Highway to 4000 images!\n",
            "📊 Found 2510 images in Industrial.\n"
          ]
        },
        {
          "output_type": "stream",
          "name": "stderr",
          "text": [
            "\r 50%|█████     | 5/10 [43:01<41:07, 493.54s/it]"
          ]
        },
        {
          "output_type": "stream",
          "name": "stdout",
          "text": [
            "✅ Augmented Industrial to 4000 images!\n",
            "📊 Found 2000 images in Pasture.\n"
          ]
        },
        {
          "output_type": "stream",
          "name": "stderr",
          "text": [
            "\r 60%|██████    | 6/10 [46:58<27:05, 406.30s/it]"
          ]
        },
        {
          "output_type": "stream",
          "name": "stdout",
          "text": [
            "✅ Augmented Pasture to 4000 images!\n",
            "📊 Found 2500 images in PermanentCrop.\n"
          ]
        },
        {
          "output_type": "stream",
          "name": "stderr",
          "text": [
            "\r 70%|███████   | 7/10 [54:28<21:01, 420.50s/it]"
          ]
        },
        {
          "output_type": "stream",
          "name": "stdout",
          "text": [
            "✅ Augmented PermanentCrop to 4000 images!\n",
            "📊 Found 3000 images in Residential.\n"
          ]
        },
        {
          "output_type": "stream",
          "name": "stderr",
          "text": [
            "\r 80%|████████  | 8/10 [1:06:20<17:06, 513.35s/it]"
          ]
        },
        {
          "output_type": "stream",
          "name": "stdout",
          "text": [
            "✅ Augmented Residential to 4000 images!\n",
            "📊 Found 2500 images in River.\n"
          ]
        },
        {
          "output_type": "stream",
          "name": "stderr",
          "text": [
            "\r 90%|█████████ | 9/10 [1:13:32<08:08, 488.02s/it]"
          ]
        },
        {
          "output_type": "stream",
          "name": "stdout",
          "text": [
            "✅ Augmented River to 4000 images!\n",
            "📊 Found 3000 images in SeaLake.\n"
          ]
        },
        {
          "output_type": "stream",
          "name": "stderr",
          "text": [
            "100%|██████████| 10/10 [1:23:24<00:00, 500.40s/it]"
          ]
        },
        {
          "output_type": "stream",
          "name": "stdout",
          "text": [
            "✅ Augmented SeaLake to 4000 images!\n"
          ]
        },
        {
          "output_type": "stream",
          "name": "stderr",
          "text": [
            "\n"
          ]
        },
        {
          "output_type": "stream",
          "name": "stdout",
          "text": [
            "\n",
            "✅ Total Processed Images: 40000\n"
          ]
        }
      ]
    },
    {
      "cell_type": "markdown",
      "source": [
        "📌 Section 5: Compute NDVI for one Image"
      ],
      "metadata": {
        "id": "qdlud74uRxnc"
      },
      "id": "qdlud74uRxnc"
    },
    {
      "cell_type": "code",
      "source": [
        "import matplotlib.pyplot as plt\n",
        "import numpy as np\n",
        "\n",
        "# ✅ Define NDVI Computation Function\n",
        "def compute_ndvi(image, nir_band=7, red_band=3):\n",
        "    \"\"\"\n",
        "    Computes NDVI using Near-Infrared (NIR) and Red bands.\n",
        "    \"\"\"\n",
        "    nir = image[:, :, nir_band].astype(float)\n",
        "    red = image[:, :, red_band].astype(float)\n",
        "    ndvi = (nir - red) / (nir + red + 1e-5)  # Avoid division by zero\n",
        "    return ndvi\n",
        "\n",
        "# ✅ Compute NDVI for the Entire Dataset\n",
        "ndvi_maps = np.array([compute_ndvi(img) for img in X])\n",
        "\n",
        "print(\"\\n✅ NDVI Computation Completed!\")\n",
        "print(f\"📂 NDVI shape: {ndvi_maps.shape}\")\n",
        "\n",
        "# ✅ Select One Image Per Category for Visualization\n",
        "unique_categories = np.unique(y)  # Get all category labels\n",
        "category_samples = {}  # Dictionary to store one sample per category\n",
        "\n",
        "for idx, label in enumerate(y):\n",
        "    if label not in category_samples:  # Pick only the first occurrence\n",
        "        category_samples[label] = ndvi_maps[idx]\n",
        "\n",
        "# ✅ Visualize NDVI Maps (One Per Category)\n",
        "plt.figure(figsize=(15, 8))\n",
        "for i, (category, ndvi_map) in enumerate(category_samples.items()):\n",
        "    plt.subplot(2, 5, i + 1)  # Adjust for number of categories\n",
        "    plt.imshow(ndvi_map, cmap='RdYlGn', vmin=-1, vmax=1)\n",
        "    plt.colorbar(label=\"NDVI Value\")\n",
        "    plt.title(f\"Category: {category}\")\n",
        "    plt.axis(\"off\")\n",
        "\n",
        "plt.tight_layout()\n",
        "plt.show()\n",
        "\n"
      ],
      "metadata": {
        "colab": {
          "base_uri": "https://localhost:8080/",
          "height": 332
        },
        "id": "CZLRM4AzRy2_",
        "outputId": "baaa7d3a-1441-4a48-b7a3-3febfdce71d5"
      },
      "id": "CZLRM4AzRy2_",
      "execution_count": 5,
      "outputs": [
        {
          "output_type": "error",
          "ename": "FileNotFoundError",
          "evalue": "[Errno 2] No such file or directory: '/content/drive/My Drive/EuroSAT_Final_Dataset/X.npy'",
          "traceback": [
            "\u001b[0;31m---------------------------------------------------------------------------\u001b[0m",
            "\u001b[0;31mFileNotFoundError\u001b[0m                         Traceback (most recent call last)",
            "\u001b[0;32m<ipython-input-5-a43c3f096b2c>\u001b[0m in \u001b[0;36m<cell line: 0>\u001b[0;34m()\u001b[0m\n\u001b[1;32m     17\u001b[0m \u001b[0;34m\u001b[0m\u001b[0m\n\u001b[1;32m     18\u001b[0m \u001b[0;31m# Load X and y from the saved files\u001b[0m\u001b[0;34m\u001b[0m\u001b[0;34m\u001b[0m\u001b[0m\n\u001b[0;32m---> 19\u001b[0;31m \u001b[0mX\u001b[0m \u001b[0;34m=\u001b[0m \u001b[0mnp\u001b[0m\u001b[0;34m.\u001b[0m\u001b[0mload\u001b[0m\u001b[0;34m(\u001b[0m\u001b[0mos\u001b[0m\u001b[0;34m.\u001b[0m\u001b[0mpath\u001b[0m\u001b[0;34m.\u001b[0m\u001b[0mjoin\u001b[0m\u001b[0;34m(\u001b[0m\u001b[0mfinal_dataset_path\u001b[0m\u001b[0;34m,\u001b[0m \u001b[0;34m\"X.npy\"\u001b[0m\u001b[0;34m)\u001b[0m\u001b[0;34m)\u001b[0m\u001b[0;34m\u001b[0m\u001b[0;34m\u001b[0m\u001b[0m\n\u001b[0m\u001b[1;32m     20\u001b[0m \u001b[0my\u001b[0m \u001b[0;34m=\u001b[0m \u001b[0mnp\u001b[0m\u001b[0;34m.\u001b[0m\u001b[0mload\u001b[0m\u001b[0;34m(\u001b[0m\u001b[0mos\u001b[0m\u001b[0;34m.\u001b[0m\u001b[0mpath\u001b[0m\u001b[0;34m.\u001b[0m\u001b[0mjoin\u001b[0m\u001b[0;34m(\u001b[0m\u001b[0mfinal_dataset_path\u001b[0m\u001b[0;34m,\u001b[0m \u001b[0;34m\"y.npy\"\u001b[0m\u001b[0;34m)\u001b[0m\u001b[0;34m)\u001b[0m\u001b[0;34m\u001b[0m\u001b[0;34m\u001b[0m\u001b[0m\n\u001b[1;32m     21\u001b[0m \u001b[0;34m\u001b[0m\u001b[0m\n",
            "\u001b[0;32m/usr/local/lib/python3.11/dist-packages/numpy/lib/npyio.py\u001b[0m in \u001b[0;36mload\u001b[0;34m(file, mmap_mode, allow_pickle, fix_imports, encoding, max_header_size)\u001b[0m\n\u001b[1;32m    425\u001b[0m             \u001b[0mown_fid\u001b[0m \u001b[0;34m=\u001b[0m \u001b[0;32mFalse\u001b[0m\u001b[0;34m\u001b[0m\u001b[0;34m\u001b[0m\u001b[0m\n\u001b[1;32m    426\u001b[0m         \u001b[0;32melse\u001b[0m\u001b[0;34m:\u001b[0m\u001b[0;34m\u001b[0m\u001b[0;34m\u001b[0m\u001b[0m\n\u001b[0;32m--> 427\u001b[0;31m             \u001b[0mfid\u001b[0m \u001b[0;34m=\u001b[0m \u001b[0mstack\u001b[0m\u001b[0;34m.\u001b[0m\u001b[0menter_context\u001b[0m\u001b[0;34m(\u001b[0m\u001b[0mopen\u001b[0m\u001b[0;34m(\u001b[0m\u001b[0mos_fspath\u001b[0m\u001b[0;34m(\u001b[0m\u001b[0mfile\u001b[0m\u001b[0;34m)\u001b[0m\u001b[0;34m,\u001b[0m \u001b[0;34m\"rb\"\u001b[0m\u001b[0;34m)\u001b[0m\u001b[0;34m)\u001b[0m\u001b[0;34m\u001b[0m\u001b[0;34m\u001b[0m\u001b[0m\n\u001b[0m\u001b[1;32m    428\u001b[0m             \u001b[0mown_fid\u001b[0m \u001b[0;34m=\u001b[0m \u001b[0;32mTrue\u001b[0m\u001b[0;34m\u001b[0m\u001b[0;34m\u001b[0m\u001b[0m\n\u001b[1;32m    429\u001b[0m \u001b[0;34m\u001b[0m\u001b[0m\n",
            "\u001b[0;31mFileNotFoundError\u001b[0m: [Errno 2] No such file or directory: '/content/drive/My Drive/EuroSAT_Final_Dataset/X.npy'"
          ]
        }
      ]
    },
    {
      "cell_type": "markdown",
      "source": [
        "📌 Section 6: Encode Labels & Save Final Dataset"
      ],
      "metadata": {
        "id": "gk3v16fAR0vt"
      },
      "id": "gk3v16fAR0vt"
    },
    {
      "cell_type": "code",
      "source": [
        "# ✅ Encode Labels (Convert Category Names to Integers)\n",
        "label_encoder = LabelEncoder()\n",
        "y_encoded = label_encoder.fit_transform(y)\n",
        "print(\"\\n📜 Label Mapping:\", dict(zip(label_encoder.classes_, label_encoder.transform(label_encoder.classes_))))\n",
        "\n",
        "# ✅ Save the Final Dataset\n",
        "np.save(os.path.join(final_dataset_path, \"X.npy\"), X)\n",
        "np.save(os.path.join(final_dataset_path, \"y.npy\"), y_encoded)\n",
        "np.save(os.path.join(final_dataset_path, \"NDVI.npy\"), ndvi_maps)\n",
        "\n",
        "print(\"\\n✅ Final Dataset Saved Successfully!\")\n",
        "print(f\"📂 X.npy (images), y.npy (labels), and NDVI.npy are stored in: {final_dataset_path}\")\n",
        "print(f\"Final Dataset Shape: X={X.shape}, y={y_encoded.shape}, NDVI={ndvi_maps.shape}\")\n"
      ],
      "metadata": {
        "colab": {
          "base_uri": "https://localhost:8080/",
          "height": 211
        },
        "id": "o5MtrrgcR1yx",
        "outputId": "035cc6ea-ee7b-48d4-fe0a-a73525e17aa4"
      },
      "id": "o5MtrrgcR1yx",
      "execution_count": 3,
      "outputs": [
        {
          "output_type": "error",
          "ename": "NameError",
          "evalue": "name 'y' is not defined",
          "traceback": [
            "\u001b[0;31m---------------------------------------------------------------------------\u001b[0m",
            "\u001b[0;31mNameError\u001b[0m                                 Traceback (most recent call last)",
            "\u001b[0;32m<ipython-input-3-53a929507146>\u001b[0m in \u001b[0;36m<cell line: 0>\u001b[0;34m()\u001b[0m\n\u001b[1;32m      1\u001b[0m \u001b[0;31m# ✅ Encode Labels (Convert Category Names to Integers)\u001b[0m\u001b[0;34m\u001b[0m\u001b[0;34m\u001b[0m\u001b[0m\n\u001b[1;32m      2\u001b[0m \u001b[0mlabel_encoder\u001b[0m \u001b[0;34m=\u001b[0m \u001b[0mLabelEncoder\u001b[0m\u001b[0;34m(\u001b[0m\u001b[0;34m)\u001b[0m\u001b[0;34m\u001b[0m\u001b[0;34m\u001b[0m\u001b[0m\n\u001b[0;32m----> 3\u001b[0;31m \u001b[0my_encoded\u001b[0m \u001b[0;34m=\u001b[0m \u001b[0mlabel_encoder\u001b[0m\u001b[0;34m.\u001b[0m\u001b[0mfit_transform\u001b[0m\u001b[0;34m(\u001b[0m\u001b[0my\u001b[0m\u001b[0;34m)\u001b[0m\u001b[0;34m\u001b[0m\u001b[0;34m\u001b[0m\u001b[0m\n\u001b[0m\u001b[1;32m      4\u001b[0m \u001b[0mprint\u001b[0m\u001b[0;34m(\u001b[0m\u001b[0;34m\"\\n📜 Label Mapping:\"\u001b[0m\u001b[0;34m,\u001b[0m \u001b[0mdict\u001b[0m\u001b[0;34m(\u001b[0m\u001b[0mzip\u001b[0m\u001b[0;34m(\u001b[0m\u001b[0mlabel_encoder\u001b[0m\u001b[0;34m.\u001b[0m\u001b[0mclasses_\u001b[0m\u001b[0;34m,\u001b[0m \u001b[0mlabel_encoder\u001b[0m\u001b[0;34m.\u001b[0m\u001b[0mtransform\u001b[0m\u001b[0;34m(\u001b[0m\u001b[0mlabel_encoder\u001b[0m\u001b[0;34m.\u001b[0m\u001b[0mclasses_\u001b[0m\u001b[0;34m)\u001b[0m\u001b[0;34m)\u001b[0m\u001b[0;34m)\u001b[0m\u001b[0;34m)\u001b[0m\u001b[0;34m\u001b[0m\u001b[0;34m\u001b[0m\u001b[0m\n\u001b[1;32m      5\u001b[0m \u001b[0;34m\u001b[0m\u001b[0m\n",
            "\u001b[0;31mNameError\u001b[0m: name 'y' is not defined"
          ]
        }
      ]
    },
    {
      "cell_type": "markdown",
      "id": "b0394614",
      "metadata": {
        "id": "b0394614"
      },
      "source": [
        "# **🚀 Conclusion**\n",
        "This notebook successfully:\n",
        "- ✅ Validated dataset integrity\n",
        "- ✅ Checked image quality & distributions\n",
        "- ✅ Confirmed the presence of **multispectral bands**\n",
        "- ✅ Displayed sample images from different categories\n",
        "- ✅ Preprocessed images (resize, normalize, augment)\n",
        "- ✅ Computed & visualized NDVI for vegetation analysis\n",
        "\n",
        "Next Steps:\n",
        "- **Train a deep learning model** for land classification"
      ]
    }
  ],
  "metadata": {
    "colab": {
      "provenance": [],
      "gpuType": "T4"
    },
    "language_info": {
      "name": "python"
    },
    "kernelspec": {
      "name": "python3",
      "display_name": "Python 3"
    },
    "accelerator": "GPU"
  },
  "nbformat": 4,
  "nbformat_minor": 5
}